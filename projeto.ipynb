{
 "cells": [
  {
   "cell_type": "code",
   "execution_count": 1,
   "id": "c2ffd8dc-db63-416b-88a7-b83e6d615c8f",
   "metadata": {
    "tags": []
   },
   "outputs": [],
   "source": [
    "import pandas as pd\n",
    "import inflection\n",
    "pd.DataFrame.iteritems = pd.DataFrame.items"
   ]
  },
  {
   "cell_type": "code",
   "execution_count": 2,
   "id": "6b5a796c-3817-435a-a205-78e6a4d18632",
   "metadata": {
    "tags": []
   },
   "outputs": [],
   "source": [
    "df = pd.read_csv('dataset/zomato.csv')"
   ]
  },
  {
   "cell_type": "code",
   "execution_count": 3,
   "id": "382a3dab",
   "metadata": {},
   "outputs": [],
   "source": [
    "# LIMPEZA E FUNCOES DE TRATAMENTO DE DADOS\n",
    "\n",
    "# ----------------------------------------\n",
    "# Renomear colunas do DataFrame\n",
    "# ----------------------------------------\n",
    "def rename_columns(df):\n",
    "    df1 = df.copy()\n",
    "    title = lambda x: inflection.titleize(x)\n",
    "    snakecase = lambda x: inflection.underscore(x)\n",
    "    spaces = lambda x: x.replace(\" \", \"\")\n",
    "    cols_old = list(df1.columns)\n",
    "    cols_old = list(map(title, cols_old))\n",
    "    cols_old = list(map(spaces, cols_old))\n",
    "    cols_new = list(map(snakecase, cols_old))\n",
    "    df1.columns = cols_new\n",
    "    return df1\n",
    "\n",
    "df1 = rename_columns(df)\n",
    "\n",
    "# ----------------------------------------\n",
    "# Preenchendo o nome dos paises\n",
    "# ----------------------------------------\n",
    "COUNTRIES = {\n",
    "1: \"India\",\n",
    "14: \"Australia\",\n",
    "30: \"Brazil\",\n",
    "37: \"Canada\",\n",
    "94: \"Indonesia\",\n",
    "148: \"New Zeland\",\n",
    "162: \"Philippines\",\n",
    "166: \"Qatar\",\n",
    "184: \"Singapure\",\n",
    "189: \"South Africa\",\n",
    "191: \"Sri Lanka\",\n",
    "208: \"Turkey\",\n",
    "214: \"United Arab Emirates\",\n",
    "215: \"England\",\n",
    "216: \"United States of America\",\n",
    "}\n",
    "\n",
    "def country_name(country_id):\n",
    "    return COUNTRIES[country_id]\n",
    "\n",
    "df1['country_code'] = df1['country_code'].apply(country_name)\n",
    "\n",
    "\n",
    "# -------------------------------------------------------------------\n",
    "# Categorizar todos os restaurantes somente por um tipo de culinária\n",
    "# -------------------------------------------------------------------\n",
    "df1[\"cuisines\"] = df1.loc[:, \"cuisines\"].astype(str).apply(lambda x: x.split(\",\")[0])\n",
    "\n",
    "\n",
    "# --------------------------------------\n",
    "# Criar tipo de categoria de comida\n",
    "# --------------------------------------\n",
    "def create_price_tye(price_range):\n",
    "    if price_range == 1:\n",
    "        return \"cheap\"\n",
    "    elif price_range == 2:\n",
    "        return \"normal\"\n",
    "    elif price_range == 3:\n",
    "        return \"expensive\"\n",
    "    else:\n",
    "        return \"gourmet\"\n",
    "    \n",
    "df1['price_range'] = df1['price_range'].apply(create_price_tye)\n",
    "\n",
    "\n",
    "# --------------------------------------\n",
    "# Criar nome das cores\n",
    "# --------------------------------------\n",
    "COLORS = {\n",
    "    \"3F7E00\": \"darkgreen\",\n",
    "    \"5BA829\": \"green\",\n",
    "    \"9ACD32\": \"lightgreen\",\n",
    "    \"CDD614\": \"orange\",\n",
    "    \"FFBA00\": \"red\",\n",
    "    \"CBCBC8\": \"darkred\",\n",
    "    \"FF7800\": \"darkred\",\n",
    "}\n",
    "def color_name(color_code):\n",
    "    return COLORS[color_code]\n",
    "\n",
    "df1['rating_color'] = df1['rating_color'].apply(color_name)\n",
    "\n",
    "# --------------------------------------\n",
    "# Remover duplicatas\n",
    "# --------------------------------------\n",
    "df1 = df1.drop_duplicates()\n",
    "\n",
    "# --------------------------------------\n",
    "# Apagando linhas com valores nulos das colunas (restaurant_id, restaurant_name, country_code, city, address, locality, locality_verbose, longitude,\n",
    "# latitude, cuisines, average_cost_for_two, currency, price_range, aggregate_rating, rating_color, rating_text, votes)\n",
    "# --------------------------------------\n",
    "df1 = (df1.dropna(subset=['restaurant_id', 'restaurant_name', 'country_code', 'city', 'address', 'locality', 'locality_verbose', \n",
    "                          'longitude', 'latitude', 'cuisines', 'average_cost_for_two', 'currency', 'price_range', 'aggregate_rating', \n",
    "                          'rating_color', 'rating_text', 'votes']))\n",
    "\n",
    "\n"
   ]
  },
  {
   "cell_type": "code",
   "execution_count": 4,
   "id": "f8e76533",
   "metadata": {},
   "outputs": [
    {
     "data": {
      "text/html": [
       "<div>\n",
       "<style scoped>\n",
       "    .dataframe tbody tr th:only-of-type {\n",
       "        vertical-align: middle;\n",
       "    }\n",
       "\n",
       "    .dataframe tbody tr th {\n",
       "        vertical-align: top;\n",
       "    }\n",
       "\n",
       "    .dataframe thead th {\n",
       "        text-align: right;\n",
       "    }\n",
       "</style>\n",
       "<table border=\"1\" class=\"dataframe\">\n",
       "  <thead>\n",
       "    <tr style=\"text-align: right;\">\n",
       "      <th></th>\n",
       "      <th>restaurant_id</th>\n",
       "      <th>restaurant_name</th>\n",
       "      <th>country_code</th>\n",
       "      <th>city</th>\n",
       "      <th>address</th>\n",
       "      <th>locality</th>\n",
       "      <th>locality_verbose</th>\n",
       "      <th>longitude</th>\n",
       "      <th>latitude</th>\n",
       "      <th>cuisines</th>\n",
       "      <th>...</th>\n",
       "      <th>currency</th>\n",
       "      <th>has_table_booking</th>\n",
       "      <th>has_online_delivery</th>\n",
       "      <th>is_delivering_now</th>\n",
       "      <th>switch_to_order_menu</th>\n",
       "      <th>price_range</th>\n",
       "      <th>aggregate_rating</th>\n",
       "      <th>rating_color</th>\n",
       "      <th>rating_text</th>\n",
       "      <th>votes</th>\n",
       "    </tr>\n",
       "  </thead>\n",
       "  <tbody>\n",
       "    <tr>\n",
       "      <th>0</th>\n",
       "      <td>6310675</td>\n",
       "      <td>Mama Lou's Italian Kitchen</td>\n",
       "      <td>Philippines</td>\n",
       "      <td>Las Piñas City</td>\n",
       "      <td>Block 1, Lot 36, Tropical Avenue Corner Tropic...</td>\n",
       "      <td>BF International</td>\n",
       "      <td>BF International, Las Piñas City</td>\n",
       "      <td>121.009787</td>\n",
       "      <td>14.447615</td>\n",
       "      <td>Italian</td>\n",
       "      <td>...</td>\n",
       "      <td>Botswana Pula(P)</td>\n",
       "      <td>1</td>\n",
       "      <td>0</td>\n",
       "      <td>0</td>\n",
       "      <td>0</td>\n",
       "      <td>expensive</td>\n",
       "      <td>4.6</td>\n",
       "      <td>darkgreen</td>\n",
       "      <td>Excellent</td>\n",
       "      <td>619</td>\n",
       "    </tr>\n",
       "    <tr>\n",
       "      <th>2</th>\n",
       "      <td>6314542</td>\n",
       "      <td>Blackbird</td>\n",
       "      <td>Philippines</td>\n",
       "      <td>Makati City</td>\n",
       "      <td>Nielson Tower, Ayala Triangle Gardens, Salcedo...</td>\n",
       "      <td>Ayala Triangle Gardens, Salcedo Village, Makat...</td>\n",
       "      <td>Ayala Triangle Gardens, Salcedo Village, Makat...</td>\n",
       "      <td>121.024562</td>\n",
       "      <td>14.556042</td>\n",
       "      <td>European</td>\n",
       "      <td>...</td>\n",
       "      <td>Botswana Pula(P)</td>\n",
       "      <td>0</td>\n",
       "      <td>0</td>\n",
       "      <td>0</td>\n",
       "      <td>0</td>\n",
       "      <td>gourmet</td>\n",
       "      <td>4.7</td>\n",
       "      <td>darkgreen</td>\n",
       "      <td>Excellent</td>\n",
       "      <td>469</td>\n",
       "    </tr>\n",
       "    <tr>\n",
       "      <th>3</th>\n",
       "      <td>6301293</td>\n",
       "      <td>Banapple</td>\n",
       "      <td>Philippines</td>\n",
       "      <td>Makati City</td>\n",
       "      <td>Ayala Triangle Gardens, Salcedo Village, Makat...</td>\n",
       "      <td>Ayala Triangle Gardens, Salcedo Village, Makat...</td>\n",
       "      <td>Ayala Triangle Gardens, Salcedo Village, Makat...</td>\n",
       "      <td>121.023171</td>\n",
       "      <td>14.556196</td>\n",
       "      <td>Filipino</td>\n",
       "      <td>...</td>\n",
       "      <td>Botswana Pula(P)</td>\n",
       "      <td>0</td>\n",
       "      <td>0</td>\n",
       "      <td>0</td>\n",
       "      <td>0</td>\n",
       "      <td>expensive</td>\n",
       "      <td>4.4</td>\n",
       "      <td>green</td>\n",
       "      <td>Very Good</td>\n",
       "      <td>867</td>\n",
       "    </tr>\n",
       "  </tbody>\n",
       "</table>\n",
       "<p>3 rows × 21 columns</p>\n",
       "</div>"
      ],
      "text/plain": [
       "   restaurant_id             restaurant_name country_code            city  \\\n",
       "0        6310675  Mama Lou's Italian Kitchen  Philippines  Las Piñas City   \n",
       "2        6314542                   Blackbird  Philippines     Makati City   \n",
       "3        6301293                    Banapple  Philippines     Makati City   \n",
       "\n",
       "                                             address  \\\n",
       "0  Block 1, Lot 36, Tropical Avenue Corner Tropic...   \n",
       "2  Nielson Tower, Ayala Triangle Gardens, Salcedo...   \n",
       "3  Ayala Triangle Gardens, Salcedo Village, Makat...   \n",
       "\n",
       "                                            locality  \\\n",
       "0                                   BF International   \n",
       "2  Ayala Triangle Gardens, Salcedo Village, Makat...   \n",
       "3  Ayala Triangle Gardens, Salcedo Village, Makat...   \n",
       "\n",
       "                                    locality_verbose   longitude   latitude  \\\n",
       "0                   BF International, Las Piñas City  121.009787  14.447615   \n",
       "2  Ayala Triangle Gardens, Salcedo Village, Makat...  121.024562  14.556042   \n",
       "3  Ayala Triangle Gardens, Salcedo Village, Makat...  121.023171  14.556196   \n",
       "\n",
       "   cuisines  ...          currency has_table_booking  has_online_delivery  \\\n",
       "0   Italian  ...  Botswana Pula(P)                 1                    0   \n",
       "2  European  ...  Botswana Pula(P)                 0                    0   \n",
       "3  Filipino  ...  Botswana Pula(P)                 0                    0   \n",
       "\n",
       "   is_delivering_now  switch_to_order_menu  price_range aggregate_rating  \\\n",
       "0                  0                     0    expensive              4.6   \n",
       "2                  0                     0      gourmet              4.7   \n",
       "3                  0                     0    expensive              4.4   \n",
       "\n",
       "   rating_color rating_text votes  \n",
       "0     darkgreen   Excellent   619  \n",
       "2     darkgreen   Excellent   469  \n",
       "3         green   Very Good   867  \n",
       "\n",
       "[3 rows x 21 columns]"
      ]
     },
     "execution_count": 4,
     "metadata": {},
     "output_type": "execute_result"
    }
   ],
   "source": [
    "df1.head(3)\n"
   ]
  },
  {
   "cell_type": "markdown",
   "id": "293cab11",
   "metadata": {},
   "source": [
    "# Geral"
   ]
  },
  {
   "cell_type": "markdown",
   "id": "548237a7",
   "metadata": {},
   "source": [
    "1. Quantos restaurantes únicos estão registrados?\n"
   ]
  },
  {
   "cell_type": "code",
   "execution_count": 5,
   "id": "1c5674dc",
   "metadata": {},
   "outputs": [
    {
     "name": "stdout",
     "output_type": "stream",
     "text": [
      "6942\n"
     ]
    }
   ],
   "source": [
    "restaurantes_unicos = df1['restaurant_id'].nunique()\n",
    "print(restaurantes_unicos)"
   ]
  },
  {
   "cell_type": "markdown",
   "id": "85db28a7",
   "metadata": {},
   "source": [
    "2. Quantos países únicos estão registrados?\n"
   ]
  },
  {
   "cell_type": "code",
   "execution_count": 6,
   "id": "b0eb1ee9",
   "metadata": {},
   "outputs": [
    {
     "name": "stdout",
     "output_type": "stream",
     "text": [
      "15\n"
     ]
    }
   ],
   "source": [
    "paises_unicos = df1['country_code'].nunique()\n",
    "print(paises_unicos)"
   ]
  },
  {
   "cell_type": "markdown",
   "id": "ab94d99a",
   "metadata": {},
   "source": [
    "3. Quantas cidades únicas estão registradas?\n"
   ]
  },
  {
   "cell_type": "code",
   "execution_count": 7,
   "id": "39b1af17",
   "metadata": {},
   "outputs": [
    {
     "name": "stdout",
     "output_type": "stream",
     "text": [
      "125\n"
     ]
    }
   ],
   "source": [
    "cidades_unicas = df1['city'].nunique()\n",
    "print(cidades_unicas)"
   ]
  },
  {
   "cell_type": "markdown",
   "id": "ea4b2b40",
   "metadata": {},
   "source": [
    "4. Qual o total de avaliações feitas?\n"
   ]
  },
  {
   "cell_type": "code",
   "execution_count": 8,
   "id": "ae463ba3",
   "metadata": {},
   "outputs": [
    {
     "name": "stdout",
     "output_type": "stream",
     "text": [
      "4195634\n"
     ]
    }
   ],
   "source": [
    "total_avaliacoes = df1['votes'].sum()\n",
    "print(total_avaliacoes)"
   ]
  },
  {
   "cell_type": "markdown",
   "id": "206ef6e5",
   "metadata": {},
   "source": [
    "5. Qual o total de tipos de culinária registrados?\n"
   ]
  },
  {
   "cell_type": "code",
   "execution_count": 9,
   "id": "463e25d6",
   "metadata": {},
   "outputs": [
    {
     "name": "stdout",
     "output_type": "stream",
     "text": [
      "166\n"
     ]
    }
   ],
   "source": [
    "total_tipos_culinaria = df1['cuisines'].nunique()\n",
    "print(total_tipos_culinaria)"
   ]
  },
  {
   "cell_type": "markdown",
   "id": "7343b3cd",
   "metadata": {},
   "source": [
    "# Pais"
   ]
  },
  {
   "cell_type": "markdown",
   "id": "8154b4ad",
   "metadata": {},
   "source": [
    "1. Qual o nome do país que possui mais cidades registradas?\n"
   ]
  },
  {
   "cell_type": "code",
   "execution_count": 10,
   "id": "1e1e6b1d",
   "metadata": {},
   "outputs": [
    {
     "name": "stdout",
     "output_type": "stream",
     "text": [
      "              city\n",
      "country_code      \n",
      "India           49\n"
     ]
    }
   ],
   "source": [
    "pais_mais_cidades = (df1.loc[:, ['country_code', 'city']]\n",
    "                     .groupby('country_code')\n",
    "                     .nunique()\n",
    "                     .sort_values(by='city', ascending=False).head(1))\n",
    "print(pais_mais_cidades)"
   ]
  },
  {
   "cell_type": "markdown",
   "id": "b4eecab1",
   "metadata": {},
   "source": [
    "2. Qual o nome do país que possui mais restaurantes registrados?\n"
   ]
  },
  {
   "cell_type": "code",
   "execution_count": 11,
   "id": "3f811ee9",
   "metadata": {},
   "outputs": [
    {
     "name": "stdout",
     "output_type": "stream",
     "text": [
      "              restaurant_id\n",
      "country_code               \n",
      "India                  3120\n"
     ]
    }
   ],
   "source": [
    "pais_mais_restaurantes = (df1.loc[:, ['country_code', 'restaurant_id']]\n",
    "                          .groupby('country_code')\n",
    "                          .nunique()\n",
    "                          .sort_values(by='restaurant_id', ascending=False).head(1))\n",
    "print(pais_mais_restaurantes)"
   ]
  },
  {
   "cell_type": "markdown",
   "id": "d6de3cf9",
   "metadata": {},
   "source": [
    "3. Qual o nome do país que possui mais restaurantes com o nível de preço igual a 4\n",
    "registrados?\n"
   ]
  },
  {
   "cell_type": "code",
   "execution_count": 12,
   "id": "e7d8d51c",
   "metadata": {},
   "outputs": [
    {
     "name": "stdout",
     "output_type": "stream",
     "text": [
      "Empty DataFrame\n",
      "Columns: [restaurant_id]\n",
      "Index: []\n"
     ]
    }
   ],
   "source": [
    "filtro = df1['price_range'] == 4\n",
    "\n",
    "pais_restaurantes_nivel_4 = (df1.loc[filtro, ['country_code', 'restaurant_id']]\n",
    "                             .groupby('country_code')\n",
    "                             .nunique()\n",
    "                             .sort_values(by='restaurant_id', ascending=False).head(1))\n",
    "print(pais_restaurantes_nivel_4)"
   ]
  },
  {
   "cell_type": "markdown",
   "id": "6a302107",
   "metadata": {},
   "source": [
    "4. Qual o nome do país que possui a maior quantidade de tipos de culinária\n",
    "distintos?"
   ]
  },
  {
   "cell_type": "code",
   "execution_count": 13,
   "id": "936ec406",
   "metadata": {},
   "outputs": [
    {
     "name": "stdout",
     "output_type": "stream",
     "text": [
      "              cuisines\n",
      "country_code          \n",
      "India               78\n"
     ]
    }
   ],
   "source": [
    "df1[\"cuisines\"] = df1.loc[:, \"cuisines\"].astype(str).apply(lambda x: x.split(\",\")[0])\n",
    "\n",
    "pais_mais_tipos_culinaria = (df1.loc[:, ['country_code', 'cuisines']]\n",
    "                             .groupby('country_code')\n",
    "                             .nunique()\n",
    "                             .sort_values(by='cuisines', ascending=False).head(1))\n",
    "print(pais_mais_tipos_culinaria)"
   ]
  },
  {
   "cell_type": "markdown",
   "id": "307f89f9",
   "metadata": {},
   "source": [
    "5. Qual o nome do país que possui a maior quantidade de avaliações feitas?"
   ]
  },
  {
   "cell_type": "code",
   "execution_count": 14,
   "id": "e5f23a15",
   "metadata": {},
   "outputs": [
    {
     "name": "stdout",
     "output_type": "stream",
     "text": [
      "                votes\n",
      "country_code         \n",
      "India         2800199\n"
     ]
    }
   ],
   "source": [
    "pais_mais_avaliacoes = df1.loc[:, ['country_code', 'votes']].groupby('country_code').sum().sort_values(by='votes', ascending=False).head(1)\n",
    "print(pais_mais_avaliacoes)"
   ]
  },
  {
   "cell_type": "markdown",
   "id": "763083a6",
   "metadata": {},
   "source": [
    "6. Qual o nome do país que possui a maior quantidade de restaurantes que fazem\n",
    "entrega?\n"
   ]
  },
  {
   "cell_type": "code",
   "execution_count": 15,
   "id": "7e006b27",
   "metadata": {},
   "outputs": [
    {
     "name": "stdout",
     "output_type": "stream",
     "text": [
      "              is_delivering_now\n",
      "country_code                   \n",
      "India                      1150\n"
     ]
    }
   ],
   "source": [
    "pais_mais_entregas = (df1.loc[:, ['country_code', 'is_delivering_now']]\n",
    "                      .groupby('country_code')\n",
    "                      .sum()\n",
    "                      .sort_values(by='is_delivering_now', ascending=False).head(1))\n",
    "print(pais_mais_entregas)"
   ]
  },
  {
   "cell_type": "markdown",
   "id": "681d3cc6",
   "metadata": {},
   "source": [
    "7. Qual o nome do país que possui a maior quantidade de restaurantes que aceitam\n",
    "reservas?"
   ]
  },
  {
   "cell_type": "code",
   "execution_count": 16,
   "id": "0c607ecd",
   "metadata": {},
   "outputs": [
    {
     "name": "stdout",
     "output_type": "stream",
     "text": [
      "              has_table_booking\n",
      "country_code                   \n",
      "India                       256\n"
     ]
    }
   ],
   "source": [
    "pais_mais_reservas = (df1.loc[:, ['country_code', 'has_table_booking']]\n",
    "                      .groupby('country_code')\n",
    "                      .sum()\n",
    "                      .sort_values(by='has_table_booking', ascending=False).head(1))\n",
    "print(pais_mais_reservas)"
   ]
  },
  {
   "cell_type": "markdown",
   "id": "fc26444f",
   "metadata": {},
   "source": [
    "8. Qual o nome do país que possui, na média, a maior quantidade de avaliações\n",
    "registrada?"
   ]
  },
  {
   "cell_type": "code",
   "execution_count": 17,
   "id": "98db6a35",
   "metadata": {},
   "outputs": [
    {
     "name": "stdout",
     "output_type": "stream",
     "text": [
      "                 votes\n",
      "country_code          \n",
      "Indonesia     1112.825\n"
     ]
    }
   ],
   "source": [
    "pais_media_mais_avaliacoes = (df1.loc[:, ['country_code', 'votes']]\n",
    "                              .groupby('country_code')\n",
    "                              .mean()\n",
    "                              .sort_values(by='votes', ascending=False).head(1))\n",
    "print(pais_media_mais_avaliacoes)"
   ]
  },
  {
   "cell_type": "markdown",
   "id": "ae522bd9",
   "metadata": {},
   "source": [
    "9. Qual o nome do país que possui, na média, a maior nota média registrada?"
   ]
  },
  {
   "cell_type": "code",
   "execution_count": 18,
   "id": "1a8cf88c",
   "metadata": {},
   "outputs": [
    {
     "name": "stdout",
     "output_type": "stream",
     "text": [
      "              aggregate_rating\n",
      "country_code                  \n",
      "Indonesia              4.60125\n"
     ]
    }
   ],
   "source": [
    "pais_maior_nota_media = (df1.loc[:, ['country_code', 'aggregate_rating']]\n",
    "                         .groupby('country_code')\n",
    "                         .mean()\n",
    "                         .sort_values(by='aggregate_rating', ascending=False).head(1))\n",
    "print(pais_maior_nota_media)"
   ]
  },
  {
   "cell_type": "markdown",
   "id": "bc4f642b",
   "metadata": {},
   "source": [
    "10. Qual o nome do país que possui, na média, a menor nota média registrada?"
   ]
  },
  {
   "cell_type": "code",
   "execution_count": 19,
   "id": "965b2922",
   "metadata": {},
   "outputs": [
    {
     "name": "stdout",
     "output_type": "stream",
     "text": [
      "              aggregate_rating\n",
      "country_code                  \n",
      "Brazil                3.321667\n"
     ]
    }
   ],
   "source": [
    "pais_menor_nota_media = (df1.loc[:, ['country_code', 'aggregate_rating']]\n",
    "                         .groupby('country_code')\n",
    "                         .mean()\n",
    "                         .sort_values(by='aggregate_rating', ascending=True).head(1))\n",
    "print(pais_menor_nota_media)"
   ]
  },
  {
   "cell_type": "markdown",
   "id": "31d39ba6",
   "metadata": {},
   "source": [
    "11. Qual a média de preço de um prato para dois por país?\n"
   ]
  },
  {
   "cell_type": "code",
   "execution_count": 20,
   "id": "70377a4c",
   "metadata": {},
   "outputs": [
    {
     "name": "stdout",
     "output_type": "stream",
     "text": [
      "                          average_cost_for_two\n",
      "country_code                                  \n",
      "Australia                        138959.783333\n",
      "Brazil                              138.812500\n",
      "Canada                               41.861111\n",
      "England                              43.510000\n",
      "India                               703.602564\n",
      "Indonesia                        303000.000000\n",
      "New Zeland                           62.154812\n",
      "Philippines                        1227.825000\n",
      "Qatar                               174.000000\n",
      "Singapure                           141.437500\n",
      "South Africa                        339.228324\n",
      "Sri Lanka                          2579.375000\n",
      "Turkey                              128.584906\n",
      "United Arab Emirates                153.716667\n",
      "United States of America             55.018868\n"
     ]
    }
   ],
   "source": [
    "df1[\"average_cost_for_two\"] = df1.loc[:, \"average_cost_for_two\"].astype(int)\n",
    "\n",
    "media_preco_prato_pais = (df1.loc[:, ['country_code', 'average_cost_for_two']]\n",
    "                          .groupby('country_code')\n",
    "                          .mean())\n",
    "print(media_preco_prato_pais)"
   ]
  },
  {
   "cell_type": "markdown",
   "id": "be61371f",
   "metadata": {},
   "source": [
    "# Cidade"
   ]
  },
  {
   "cell_type": "markdown",
   "id": "e1c3ce74",
   "metadata": {},
   "source": [
    "1. Qual o nome da cidade que possui mais restaurantes registrados?\n"
   ]
  },
  {
   "cell_type": "code",
   "execution_count": 21,
   "id": "692258c7",
   "metadata": {},
   "outputs": [
    {
     "name": "stdout",
     "output_type": "stream",
     "text": [
      "           restaurant_id\n",
      "city                    \n",
      "Abu Dhabi             80\n"
     ]
    }
   ],
   "source": [
    "cidade_mais_restaurantes = (df1.loc[:, ['city', 'restaurant_id']]\n",
    "                            .groupby('city')\n",
    "                            .nunique()\n",
    "                            .sort_values(by='restaurant_id', ascending=False).head(1))\n",
    "print(cidade_mais_restaurantes)"
   ]
  },
  {
   "cell_type": "markdown",
   "id": "cdf47840",
   "metadata": {},
   "source": [
    "2. Qual o nome da cidade que possui mais restaurantes com nota média acima de\n",
    "4?"
   ]
  },
  {
   "cell_type": "code",
   "execution_count": 22,
   "id": "c5a1f6c9",
   "metadata": {},
   "outputs": [
    {
     "name": "stdout",
     "output_type": "stream",
     "text": [
      "           restaurant_id\n",
      "city                    \n",
      "Bangalore             79\n"
     ]
    }
   ],
   "source": [
    "# Cidade com mais restaurantes com nota media acima de 4\n",
    "\n",
    "filtro = df1['aggregate_rating'] > 4\n",
    "\n",
    "cidade_restaurantes_nota_media_acima_4 = (df1.loc[filtro, ['city', 'restaurant_id']]\n",
    "                               .groupby('city')\n",
    "                               .nunique()\n",
    "                               .sort_values(by='restaurant_id', ascending=False).head(1))\n",
    "print(cidade_restaurantes_nota_media_acima_4)"
   ]
  },
  {
   "cell_type": "markdown",
   "id": "600b25e5",
   "metadata": {},
   "source": [
    "3. Qual o nome da cidade que possui mais restaurantes com nota média abaixo de\n",
    "2.5?"
   ]
  },
  {
   "cell_type": "code",
   "execution_count": 23,
   "id": "2ddb8c43",
   "metadata": {},
   "outputs": [
    {
     "name": "stdout",
     "output_type": "stream",
     "text": [
      "         restaurant_id\n",
      "city                  \n",
      "Gangtok             40\n"
     ]
    }
   ],
   "source": [
    "filtro = df1['aggregate_rating'] < 2.5\n",
    "\n",
    "cidade_restautantes_nota_media_abaixo_2_5 = (df1.loc[filtro, ['city', 'restaurant_id']]\n",
    "                                            .groupby('city')\n",
    "                                            .nunique()\n",
    "                                            .sort_values(by='restaurant_id', ascending=False).head(1))\n",
    "print(cidade_restautantes_nota_media_abaixo_2_5)"
   ]
  },
  {
   "cell_type": "markdown",
   "id": "77c6c896",
   "metadata": {},
   "source": [
    "4. Qual o nome da cidade que possui o maior valor médio de um prato para dois?"
   ]
  },
  {
   "cell_type": "code",
   "execution_count": 24,
   "id": "ba0160e9",
   "metadata": {},
   "outputs": [
    {
     "name": "stdout",
     "output_type": "stream",
     "text": [
      "          average_cost_for_two\n",
      "city                          \n",
      "Adelaide         416734.133333\n"
     ]
    }
   ],
   "source": [
    "cidade_maior_valor_medio_prato_dois = (df1.loc[:, ['city', 'average_cost_for_two']]\n",
    "                                      .groupby('city')\n",
    "                                      .mean()\n",
    "                                      .sort_values(by='average_cost_for_two', ascending=False).head(1))\n",
    "print(cidade_maior_valor_medio_prato_dois)"
   ]
  },
  {
   "cell_type": "markdown",
   "id": "1d72728b",
   "metadata": {},
   "source": [
    "5. Qual o nome da cidade que possui a maior quantidade de tipos de culinária\n",
    "distintas?"
   ]
  },
  {
   "cell_type": "code",
   "execution_count": 25,
   "id": "1fd22294",
   "metadata": {},
   "outputs": [
    {
     "name": "stdout",
     "output_type": "stream",
     "text": [
      "            cuisines\n",
      "city                \n",
      "Birmingham        32\n"
     ]
    }
   ],
   "source": [
    "cidade_mais_tipos_culinaria = (df1.loc[:, ['city', 'cuisines']]\n",
    "                               .groupby('city')\n",
    "                               .nunique()\n",
    "                               .sort_values(by='cuisines', ascending=False).head(1))\n",
    "print(cidade_mais_tipos_culinaria)"
   ]
  },
  {
   "cell_type": "markdown",
   "id": "116b647e",
   "metadata": {},
   "source": [
    "6. Qual o nome da cidade que possui a maior quantidade de restaurantes que fazem\n",
    "reservas?\n"
   ]
  },
  {
   "cell_type": "code",
   "execution_count": 26,
   "id": "5442d387",
   "metadata": {},
   "outputs": [
    {
     "name": "stdout",
     "output_type": "stream",
     "text": [
      "           has_table_booking\n",
      "city                        \n",
      "Bangalore                 42\n"
     ]
    }
   ],
   "source": [
    "cidade_mais_reservas = (df1.loc[:, ['city', 'has_table_booking']]\n",
    "                        .groupby('city')\n",
    "                        .sum()\n",
    "                        .sort_values(by='has_table_booking', ascending=False).head(1))\n",
    "print(cidade_mais_reservas)"
   ]
  },
  {
   "cell_type": "markdown",
   "id": "626ad3d9",
   "metadata": {},
   "source": [
    "7. Qual o nome da cidade que possui a maior quantidade de restaurantes que fazem\n",
    "entregas?"
   ]
  },
  {
   "cell_type": "code",
   "execution_count": 27,
   "id": "03525cf4",
   "metadata": {},
   "outputs": [
    {
     "name": "stdout",
     "output_type": "stream",
     "text": [
      "          is_delivering_now\n",
      "city                       \n",
      "Amritsar                 48\n"
     ]
    }
   ],
   "source": [
    "cidade_mais_entregas = (df1.loc[:, ['city', 'is_delivering_now']]\n",
    "                        .groupby('city')\n",
    "                        .sum()\n",
    "                        .sort_values(by='is_delivering_now', ascending=False).head(1))\n",
    "print(cidade_mais_entregas)"
   ]
  },
  {
   "cell_type": "markdown",
   "id": "471451d3",
   "metadata": {},
   "source": [
    "8. Qual o nome da cidade que possui a maior quantidade de restaurantes que\n",
    "aceitam pedidos online?"
   ]
  },
  {
   "cell_type": "code",
   "execution_count": 28,
   "id": "c2761406",
   "metadata": {},
   "outputs": [
    {
     "name": "stdout",
     "output_type": "stream",
     "text": [
      "        has_online_delivery\n",
      "city                       \n",
      "Bhopal                   75\n"
     ]
    }
   ],
   "source": [
    "cidade_mais_pedidos_online = (df1.loc[:, ['city', 'has_online_delivery']]\n",
    "                              .groupby('city')\n",
    "                              .sum()\n",
    "                              .sort_values(by='has_online_delivery', ascending=False).head(1))\n",
    "print(cidade_mais_pedidos_online)"
   ]
  },
  {
   "cell_type": "markdown",
   "id": "7de86407",
   "metadata": {},
   "source": [
    "# Restaurantes"
   ]
  },
  {
   "cell_type": "markdown",
   "id": "b1664a5d",
   "metadata": {},
   "source": [
    "1. Qual o nome do restaurante que possui a maior quantidade de avaliações?\n"
   ]
  },
  {
   "cell_type": "code",
   "execution_count": 29,
   "id": "b74d3f06",
   "metadata": {},
   "outputs": [
    {
     "name": "stdout",
     "output_type": "stream",
     "text": [
      "     restaurant_name  votes\n",
      "3928        Bawarchi  41333\n"
     ]
    }
   ],
   "source": [
    "restaurante_mais_votos = df1.loc[:, ['restaurant_name', 'votes']].sort_values(by='votes', ascending=False).head(1)\n",
    "print(restaurante_mais_votos)"
   ]
  },
  {
   "cell_type": "markdown",
   "id": "3dff7055",
   "metadata": {},
   "source": [
    "2. Qual o nome do restaurante com a maior nota média?\n"
   ]
  },
  {
   "cell_type": "code",
   "execution_count": 30,
   "id": "1934b3df",
   "metadata": {},
   "outputs": [
    {
     "name": "stdout",
     "output_type": "stream",
     "text": [
      "               restaurant_name  aggregate_rating\n",
      "1535  Di Rienzo Grocery & Deli               4.9\n"
     ]
    }
   ],
   "source": [
    "restaurante_maior_nota_media = df1.loc[:, ['restaurant_name', 'aggregate_rating']].sort_values(by='aggregate_rating', ascending=False).head(1)\n",
    "print(restaurante_maior_nota_media)"
   ]
  },
  {
   "cell_type": "markdown",
   "id": "765abdc5",
   "metadata": {},
   "source": [
    "3. Qual o nome do restaurante que possui o maior valor de uma prato para duas\n",
    "pessoas?\n"
   ]
  },
  {
   "cell_type": "code",
   "execution_count": 31,
   "id": "4572ce93",
   "metadata": {},
   "outputs": [
    {
     "name": "stdout",
     "output_type": "stream",
     "text": [
      "                  restaurant_name  average_cost_for_two\n",
      "385  d'Arry's Verandah Restaurant              25000017\n"
     ]
    }
   ],
   "source": [
    "restaurante_maior_valor_prato_2 = df1.loc[:, ['restaurant_name', 'average_cost_for_two']].sort_values(by='average_cost_for_two', ascending=False).head(1)\n",
    "print(restaurante_maior_valor_prato_2)"
   ]
  },
  {
   "cell_type": "markdown",
   "id": "2a072c70",
   "metadata": {},
   "source": [
    "4. Qual o nome do restaurante de tipo de culinária brasileira que possui a menor\n",
    "média de avaliação?"
   ]
  },
  {
   "cell_type": "code",
   "execution_count": 32,
   "id": "30d06212",
   "metadata": {},
   "outputs": [
    {
     "name": "stdout",
     "output_type": "stream",
     "text": [
      "                restaurant_name  aggregate_rating\n",
      "166  NAVE MÃE FAST FOOD GOURMET               0.0\n"
     ]
    }
   ],
   "source": [
    "filtro = df1['cuisines'] == 'Brazilian'\n",
    "\n",
    "culinaria_brasileira_menor_media_avaliacao = (df1.loc[filtro, ['restaurant_name', 'aggregate_rating']]\n",
    "                                              .sort_values(by='aggregate_rating', ascending=True).head(1))\n",
    "print(culinaria_brasileira_menor_media_avaliacao)"
   ]
  },
  {
   "cell_type": "markdown",
   "id": "e7b42d6c",
   "metadata": {},
   "source": [
    "5. Qual o nome do restaurante de tipo de culinária brasileira, e que é do Brasil, que\n",
    "possui a maior média de avaliação?"
   ]
  },
  {
   "cell_type": "code",
   "execution_count": 33,
   "id": "76d94a2b",
   "metadata": {},
   "outputs": [
    {
     "name": "stdout",
     "output_type": "stream",
     "text": [
      "       restaurant_name  aggregate_rating\n",
      "207  Braseiro da Gávea               4.9\n"
     ]
    }
   ],
   "source": [
    "# restaurante de culinária brasileira do brasil com maior media de avaliacao\n",
    "filtro = (df1['country_code'] == 'Brazil') & (df1['cuisines'] == 'Brazilian')\n",
    "\n",
    "culinaria_brasileira_maior_media_avaliacao = (df1.loc[filtro, ['restaurant_name', 'aggregate_rating']]\n",
    "                                                .sort_values(by='aggregate_rating', ascending=False).head(1))\n",
    "print(culinaria_brasileira_maior_media_avaliacao)"
   ]
  },
  {
   "cell_type": "markdown",
   "id": "83f8e192",
   "metadata": {},
   "source": [
    "6. Os restaurantes que aceitam pedido online são também, na média, os\n",
    "restaurantes que mais possuem avaliações registradas?"
   ]
  },
  {
   "cell_type": "code",
   "execution_count": 34,
   "id": "904c1564",
   "metadata": {},
   "outputs": [
    {
     "name": "stdout",
     "output_type": "stream",
     "text": [
      "Aceitam pedido online\n",
      "                        votes\n",
      "restaurant_name              \n",
      "Bawarchi         13903.666667\n",
      "=====================\n",
      "Nao aceitam pedido online\n",
      "                   votes\n",
      "restaurant_name         \n",
      "Toit             15270.0\n"
     ]
    }
   ],
   "source": [
    "# Testando e comparando se os restaurantes que aceitam pedidos online e os que nao aceitam possuem a mesma media de avaliacoes\n",
    "filtro = df1['has_online_delivery'] == 1\n",
    "\n",
    "restaurantes_online = df1.loc[filtro, ['restaurant_name', 'votes']].groupby('restaurant_name').mean().sort_values(by='votes', ascending=False).head(1)\n",
    "print('Aceitam pedido online')\n",
    "print(restaurantes_online)\n",
    "print('=====================')\n",
    "filtro = df1['has_online_delivery'] == 0\n",
    "\n",
    "restaurantes_nao_online = df1.loc[filtro, ['restaurant_name', 'votes']].groupby('restaurant_name').mean().sort_values(by='votes', ascending=False).head(1)\n",
    "print('Nao aceitam pedido online')\n",
    "print(restaurantes_nao_online)"
   ]
  },
  {
   "cell_type": "markdown",
   "id": "5f4be823",
   "metadata": {},
   "source": [
    "7. Os restaurantes que fazem reservas são também, na média, os restaurantes que\n",
    "possuem o maior valor médio de um prato para duas pessoas?"
   ]
  },
  {
   "cell_type": "code",
   "execution_count": 35,
   "id": "3c4bfaa8",
   "metadata": {},
   "outputs": [
    {
     "name": "stdout",
     "output_type": "stream",
     "text": [
      "Fazem reservas\n",
      "                              average_cost_for_two\n",
      "restaurant_name                                   \n",
      "d'Arry's Verandah Restaurant            25000017.0\n",
      "=====================\n",
      "Nao fazem reservas\n",
      "                        average_cost_for_two\n",
      "restaurant_name                             \n",
      "The Café - Hotel Mulia             1200000.0\n"
     ]
    }
   ],
   "source": [
    "filtro = df1['has_table_booking'] == 1\n",
    "\n",
    "restaurantes_online = df1.loc[filtro, ['restaurant_name', 'average_cost_for_two']].groupby('restaurant_name').mean().sort_values(by='average_cost_for_two', ascending=False).head(1)\n",
    "print('Fazem reservas')\n",
    "print(restaurantes_online)\n",
    "print('=====================')\n",
    "filtro = df1['has_table_booking'] == 0\n",
    "\n",
    "restaurantes_nao_online = df1.loc[filtro, ['restaurant_name', 'average_cost_for_two']].groupby('restaurant_name').mean().sort_values(by='average_cost_for_two', ascending=False).head(1)\n",
    "print('Nao fazem reservas')\n",
    "print(restaurantes_nao_online)"
   ]
  },
  {
   "cell_type": "markdown",
   "id": "161f4429",
   "metadata": {},
   "source": [
    "8. Os restaurantes do tipo de culinária japonesa dos Estados Unidos da América\n",
    "possuem um valor médio de prato para duas pessoas maior que as churrascarias\n",
    "americanas (BBQ)?\n"
   ]
  },
  {
   "cell_type": "code",
   "execution_count": 36,
   "id": "bf625eb7",
   "metadata": {},
   "outputs": [
    {
     "name": "stdout",
     "output_type": "stream",
     "text": [
      "                 average_cost_for_two\n",
      "restaurant_name                      \n",
      "Nobu                            250.0\n",
      "                            average_cost_for_two\n",
      "restaurant_name                                 \n",
      "Lamberts Downtown Barbecue                 100.0\n"
     ]
    }
   ],
   "source": [
    "filtro = (df1['country_code'] == 'United States of America') & (df1['cuisines'] == 'Japanese')\n",
    "\n",
    "japoneses_eua = (df1.loc[filtro, ['restaurant_name', 'average_cost_for_two']]\n",
    "                 .groupby('restaurant_name')\n",
    "                 .mean()\n",
    "                 .sort_values(by='average_cost_for_two', ascending=False).head(1))\n",
    "\n",
    "filtro = (df1['country_code'] == 'United States of America') & (df1['cuisines'] == 'BBQ')\n",
    "\n",
    "churrascarias_eua = (df1.loc[filtro, ['restaurant_name', 'average_cost_for_two']]\n",
    "                     .groupby('restaurant_name')\n",
    "                     .mean()\n",
    "                     .sort_values(by='average_cost_for_two', ascending=False).head(1))\n",
    "\n",
    "print(japoneses_eua)\n",
    "print(churrascarias_eua)"
   ]
  },
  {
   "cell_type": "markdown",
   "id": "95ecf260",
   "metadata": {},
   "source": [
    "# Tipos de Culinária\n"
   ]
  },
  {
   "cell_type": "markdown",
   "id": "1ca85739",
   "metadata": {},
   "source": [
    "1. Dos restaurantes que possuem o tipo de culinária italiana, qual o nome do\n",
    "restaurante com a maior média de avaliação?\n"
   ]
  },
  {
   "cell_type": "code",
   "execution_count": 37,
   "id": "0c835256",
   "metadata": {},
   "outputs": [
    {
     "name": "stdout",
     "output_type": "stream",
     "text": [
      "                  restaurant_name  aggregate_rating\n",
      "366  Andre's Cucina & Polenta Bar               4.9\n"
     ]
    }
   ],
   "source": [
    "filtro = df1['cuisines'] == 'Italian'\n",
    "\n",
    "restaurante_italiano_maior_media_avaliacao = (df1.loc[filtro, ['restaurant_name', 'aggregate_rating']]\n",
    "                                              .sort_values(by='aggregate_rating', ascending=False).head(1))\n",
    "print(restaurante_italiano_maior_media_avaliacao)"
   ]
  },
  {
   "cell_type": "markdown",
   "id": "e720be2e",
   "metadata": {},
   "source": [
    "2. Dos restaurantes que possuem o tipo de culinária italiana, qual o nome do\n",
    "restaurante com a menor média de avaliação?"
   ]
  },
  {
   "cell_type": "code",
   "execution_count": 38,
   "id": "72333a16",
   "metadata": {},
   "outputs": [
    {
     "name": "stdout",
     "output_type": "stream",
     "text": [
      "              restaurant_name  aggregate_rating\n",
      "6723  Le Delicatezze Di Bruno               0.0\n"
     ]
    }
   ],
   "source": [
    "filtro = df1['cuisines'] == 'Italian'\n",
    "\n",
    "restaurante_italiano_menor_media_avaliacao = (df1.loc[filtro, ['restaurant_name', 'aggregate_rating']]\n",
    "                                              .sort_values(by='aggregate_rating', ascending=True).head(1))\n",
    "print(restaurante_italiano_menor_media_avaliacao)"
   ]
  },
  {
   "cell_type": "markdown",
   "id": "e9193405",
   "metadata": {},
   "source": [
    "3. Dos restaurantes que possuem o tipo de culinária americana, qual o nome do\n",
    "restaurante com a maior média de avaliação?"
   ]
  },
  {
   "cell_type": "code",
   "execution_count": 39,
   "id": "a7de7185",
   "metadata": {},
   "outputs": [
    {
     "name": "stdout",
     "output_type": "stream",
     "text": [
      "       restaurant_name  aggregate_rating\n",
      "726  OEB Breakfast Co.               4.9\n"
     ]
    }
   ],
   "source": [
    "filtro = df1['cuisines'] == 'American'\n",
    "\n",
    "restaurante_americano_maior_media_avaliacao = (df1.loc[filtro, ['restaurant_name', 'aggregate_rating']]\n",
    "                                              .sort_values(by='aggregate_rating', ascending=False).head(1))\n",
    "print(restaurante_americano_maior_media_avaliacao)"
   ]
  },
  {
   "cell_type": "markdown",
   "id": "8afae882",
   "metadata": {},
   "source": [
    "4. Dos restaurantes que possuem o tipo de culinária americana, qual o nome do\n",
    "restaurante com a menor média de avaliação?"
   ]
  },
  {
   "cell_type": "code",
   "execution_count": 40,
   "id": "b94f4cf0",
   "metadata": {},
   "outputs": [
    {
     "name": "stdout",
     "output_type": "stream",
     "text": [
      "        restaurant_name  aggregate_rating\n",
      "6751  Alston Bar & Beef               0.0\n"
     ]
    }
   ],
   "source": [
    "filtro = df1['cuisines'] == 'American'\n",
    "\n",
    "restaurante_americano_menor_media_avaliacao = (df1.loc[filtro, ['restaurant_name', 'aggregate_rating']]\n",
    "                                              .sort_values(by='aggregate_rating', ascending=True).head(1))\n",
    "print(restaurante_americano_menor_media_avaliacao)"
   ]
  },
  {
   "cell_type": "markdown",
   "id": "e2f4fbed",
   "metadata": {},
   "source": [
    "5. Dos restaurantes que possuem o tipo de culinária árabe, qual o nome do\n",
    "restaurante com a maior média de avaliação?\n"
   ]
  },
  {
   "cell_type": "code",
   "execution_count": 41,
   "id": "a842ea3f",
   "metadata": {},
   "outputs": [
    {
     "name": "stdout",
     "output_type": "stream",
     "text": [
      "     restaurant_name  aggregate_rating\n",
      "3896        Mandi@36               4.7\n"
     ]
    }
   ],
   "source": [
    "filtro = df1['cuisines'] == 'Arabian'\n",
    "\n",
    "restaurante_arabe_maior_media_avaliacao = (df1.loc[filtro, ['restaurant_name', 'aggregate_rating']]\n",
    "                                              .sort_values(by='aggregate_rating', ascending=False).head(1))\n",
    "print(restaurante_arabe_maior_media_avaliacao)"
   ]
  },
  {
   "cell_type": "markdown",
   "id": "1cfe5aaa",
   "metadata": {},
   "source": [
    "6. Dos restaurantes que possuem o tipo de culinária árabe, qual o nome do\n",
    "restaurante com a menor média de avaliação?\n"
   ]
  },
  {
   "cell_type": "code",
   "execution_count": 42,
   "id": "17be8d50",
   "metadata": {},
   "outputs": [
    {
     "name": "stdout",
     "output_type": "stream",
     "text": [
      "    restaurant_name  aggregate_rating\n",
      "337           Raful               0.0\n"
     ]
    }
   ],
   "source": [
    "filtro = df1['cuisines'] == 'Arabian'\n",
    "\n",
    "restaurante_arabe_menor_media_avaliacao = (df1.loc[filtro, ['restaurant_name', 'aggregate_rating']]\n",
    "                                              .sort_values(by='aggregate_rating', ascending=True).head(1))\n",
    "print(restaurante_arabe_menor_media_avaliacao)"
   ]
  },
  {
   "cell_type": "markdown",
   "id": "a5c913ee",
   "metadata": {},
   "source": [
    "7. Dos restaurantes que possuem o tipo de culinária japonesa, qual o nome do\n",
    "restaurante com a maior média de avaliação?"
   ]
  },
  {
   "cell_type": "code",
   "execution_count": 43,
   "id": "d60fe13f",
   "metadata": {},
   "outputs": [
    {
     "name": "stdout",
     "output_type": "stream",
     "text": [
      "    restaurant_name  aggregate_rating\n",
      "240    Sushi Leblon               4.9\n"
     ]
    }
   ],
   "source": [
    "filtro = df1['cuisines'] == 'Japanese'\n",
    "\n",
    "restaurante_japones_maior_media_avaliacao = (df1.loc[filtro, ['restaurant_name', 'aggregate_rating']]\n",
    "                                              .sort_values(by='aggregate_rating', ascending=False).head(1))\n",
    "print(restaurante_japones_maior_media_avaliacao)"
   ]
  },
  {
   "cell_type": "markdown",
   "id": "b4e444c2",
   "metadata": {},
   "source": [
    "8. Dos restaurantes que possuem o tipo de culinária japonesa, qual o nome do\n",
    "restaurante com a menor média de avaliação?\n"
   ]
  },
  {
   "cell_type": "code",
   "execution_count": 44,
   "id": "0e6a90e2",
   "metadata": {},
   "outputs": [
    {
     "name": "stdout",
     "output_type": "stream",
     "text": [
      "    restaurant_name  aggregate_rating\n",
      "123    Banzai Sushi               0.0\n"
     ]
    }
   ],
   "source": [
    "filtro = df1['cuisines'] == 'Japanese'\n",
    "\n",
    "restaurante_japones_menor_media_avaliacao = (df1.loc[filtro, ['restaurant_name', 'aggregate_rating']]\n",
    "                                              .sort_values(by='aggregate_rating', ascending=True).head(1))\n",
    "print(restaurante_japones_menor_media_avaliacao)"
   ]
  },
  {
   "cell_type": "markdown",
   "id": "91be99b2",
   "metadata": {},
   "source": [
    "9. Dos restaurantes que possuem o tipo de culinária caseira, qual o nome do\n",
    "restaurante com a maior média de avaliação?"
   ]
  },
  {
   "cell_type": "code",
   "execution_count": 45,
   "id": "edde7816",
   "metadata": {},
   "outputs": [
    {
     "name": "stdout",
     "output_type": "stream",
     "text": [
      "       restaurant_name  aggregate_rating\n",
      "7525  Kanaat Lokantası               4.0\n"
     ]
    }
   ],
   "source": [
    "filtro = df1['cuisines'] == 'Home-made'\n",
    "\n",
    "restaurante_caseiro_maior_media_avaliacao = (df1.loc[filtro, ['restaurant_name', 'aggregate_rating']]\n",
    "                                              .sort_values(by='aggregate_rating', ascending=False).head(1))\n",
    "print(restaurante_caseiro_maior_media_avaliacao)"
   ]
  },
  {
   "cell_type": "markdown",
   "id": "26f6907b",
   "metadata": {},
   "source": [
    "10. Dos restaurantes que possuem o tipo de culinária caseira, qual o nome do\n",
    "restaurante com a menor média de avaliação?"
   ]
  },
  {
   "cell_type": "code",
   "execution_count": 46,
   "id": "4876a668",
   "metadata": {},
   "outputs": [
    {
     "name": "stdout",
     "output_type": "stream",
     "text": [
      "          restaurant_name  aggregate_rating\n",
      "7373  GurMekan Restaurant               3.7\n"
     ]
    }
   ],
   "source": [
    "filtro = df1['cuisines'] == 'Home-made'\n",
    "\n",
    "restaurante_caseiro_menor_media_avaliacao = (df1.loc[filtro, ['restaurant_name', 'aggregate_rating']]\n",
    "                                              .sort_values(by='aggregate_rating', ascending=True).head(1))\n",
    "print(restaurante_caseiro_menor_media_avaliacao)"
   ]
  },
  {
   "cell_type": "markdown",
   "id": "c43d656b",
   "metadata": {},
   "source": [
    "11. Qual o tipo de culinária que possui o maior valor médio de um prato para duas\n",
    "pessoas?"
   ]
  },
  {
   "cell_type": "code",
   "execution_count": 47,
   "id": "b46ef51f",
   "metadata": {},
   "outputs": [
    {
     "name": "stdout",
     "output_type": "stream",
     "text": [
      "                   average_cost_for_two\n",
      "cuisines                               \n",
      "Modern Australian          1.470693e+06\n"
     ]
    }
   ],
   "source": [
    "culinaria_maior_valor_medio_2_pessoas = (df1.loc[:, ['cuisines', 'average_cost_for_two']]\n",
    "                                         .groupby('cuisines')\n",
    "                                         .mean()\n",
    "                                         .sort_values(by='average_cost_for_two', ascending=False).head(1))\n",
    "print(culinaria_maior_valor_medio_2_pessoas)"
   ]
  },
  {
   "cell_type": "markdown",
   "id": "cf41e9ff",
   "metadata": {},
   "source": [
    "12. Qual o tipo de culinária que possui a maior nota média?"
   ]
  },
  {
   "cell_type": "code",
   "execution_count": 48,
   "id": "ec0d7ef1",
   "metadata": {},
   "outputs": [
    {
     "name": "stdout",
     "output_type": "stream",
     "text": [
      "     cuisines  aggregate_rating\n",
      "1535  Italian               4.9\n"
     ]
    }
   ],
   "source": [
    "culinaria_maior_nota_media = (df1.loc[:, ['cuisines', 'aggregate_rating']]\n",
    "                              .sort_values(by='aggregate_rating', ascending=False).head(1))\n",
    "print(culinaria_maior_nota_media)"
   ]
  },
  {
   "cell_type": "markdown",
   "id": "8d1e0c00",
   "metadata": {},
   "source": [
    "13. Qual o tipo de culinária que possui mais restaurantes que aceitam pedidos\n",
    "online e fazem entregas?"
   ]
  },
  {
   "cell_type": "code",
   "execution_count": 49,
   "id": "77382589",
   "metadata": {},
   "outputs": [
    {
     "name": "stdout",
     "output_type": "stream",
     "text": [
      "              restaurant_name\n",
      "cuisines                     \n",
      "North Indian               33\n"
     ]
    }
   ],
   "source": [
    "filtro = (df1['has_table_booking'] == 1) & (df1['has_online_delivery'] == 1)\n",
    "\n",
    "culinaria_mais_reservas_e_pedidos_online = (df1.loc[filtro, ['cuisines', 'restaurant_name']]\n",
    "                                            .groupby('cuisines')\n",
    "                                            .nunique()\n",
    "                                            .sort_values(by='restaurant_name', ascending=False).head(1))\n",
    "print(culinaria_mais_reservas_e_pedidos_online)"
   ]
  }
 ],
 "metadata": {
  "kernelspec": {
   "display_name": "Python 3 (ipykernel)",
   "language": "python",
   "name": "python3"
  },
  "language_info": {
   "codemirror_mode": {
    "name": "ipython",
    "version": 3
   },
   "file_extension": ".py",
   "mimetype": "text/x-python",
   "name": "python",
   "nbconvert_exporter": "python",
   "pygments_lexer": "ipython3",
   "version": "3.11.5"
  }
 },
 "nbformat": 4,
 "nbformat_minor": 5
}
